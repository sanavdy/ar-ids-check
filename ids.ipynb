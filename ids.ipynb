{
 "cells": [
  {
   "cell_type": "code",
   "execution_count": 1,
   "id": "1ba0804f-1b0f-403e-a6c1-79d3c82d5b06",
   "metadata": {},
   "outputs": [],
   "source": [
    "import pandas as pd\n",
    "dataset = pd.read_csv('02-14-2018.csv')"
   ]
  },
  {
   "cell_type": "code",
   "execution_count": 2,
   "id": "1712086b-eaf6-4aad-b35d-fd416c069cda",
   "metadata": {},
   "outputs": [],
   "source": [
    "data  = dataset"
   ]
  },
  {
   "cell_type": "code",
   "execution_count": 3,
   "id": "9d39456c-797c-4bc4-846a-f14c4f655fd6",
   "metadata": {},
   "outputs": [],
   "source": [
    "data = data.dropna()\n",
    "# data.shape"
   ]
  },
  {
   "cell_type": "code",
   "execution_count": 4,
   "id": "fd1182de-d425-4763-a5a5-baababbb3fa9",
   "metadata": {},
   "outputs": [
    {
     "name": "stderr",
     "output_type": "stream",
     "text": [
      "C:\\Users\\sanam\\AppData\\Local\\Temp\\ipykernel_23580\\227755452.py:5: SettingWithCopyWarning: \n",
      "A value is trying to be set on a copy of a slice from a DataFrame.\n",
      "Try using .loc[row_indexer,col_indexer] = value instead\n",
      "\n",
      "See the caveats in the documentation: https://pandas.pydata.org/pandas-docs/stable/user_guide/indexing.html#returning-a-view-versus-a-copy\n",
      "  data[col] = data[col].where(data[col].isin(top_categories), other='Other')\n"
     ]
    }
   ],
   "source": [
    "# Limit the number of categories for columns with too many unique values\n",
    "for col in data.select_dtypes(include=['object']).columns:\n",
    "    if data[col].nunique() > 500:  \n",
    "        top_categories = data[col].value_counts().index[179200:179600]  # Keeping top 100 categories\n",
    "        data[col] = data[col].where(data[col].isin(top_categories), other='Other')"
   ]
  },
  {
   "cell_type": "code",
   "execution_count": 5,
   "id": "0811b35b-e02b-4ac8-948f-ab23068e90c2",
   "metadata": {},
   "outputs": [],
   "source": [
    "data = pd.get_dummies(data, drop_first=True)"
   ]
  },
  {
   "cell_type": "code",
   "execution_count": 6,
   "id": "f943e245-b100-465c-a9b2-e75c9aa89055",
   "metadata": {},
   "outputs": [],
   "source": [
    "correlation_matrix = data.corr()"
   ]
  },
  {
   "cell_type": "code",
   "execution_count": 7,
   "id": "30ecfa65-8377-4d0b-a1de-6c2d31eead58",
   "metadata": {},
   "outputs": [
    {
     "name": "stdout",
     "output_type": "stream",
     "text": [
      "Index(['Dst Port', 'Protocol', 'Flow Duration', 'Tot Fwd Pkts', 'Tot Bwd Pkts',\n",
      "       'TotLen Fwd Pkts', 'TotLen Bwd Pkts', 'Fwd Pkt Len Max',\n",
      "       'Fwd Pkt Len Min', 'Fwd Pkt Len Mean', 'Fwd Pkt Len Std',\n",
      "       'Bwd Pkt Len Max', 'Bwd Pkt Len Min', 'Bwd Pkt Len Mean',\n",
      "       'Bwd Pkt Len Std', 'Flow Byts/s', 'Flow Pkts/s', 'Flow IAT Mean',\n",
      "       'Flow IAT Std', 'Flow IAT Max', 'Flow IAT Min', 'Fwd IAT Tot',\n",
      "       'Fwd IAT Mean', 'Fwd IAT Std', 'Fwd IAT Max', 'Fwd IAT Min',\n",
      "       'Bwd IAT Tot', 'Bwd IAT Mean', 'Bwd IAT Std', 'Bwd IAT Max',\n",
      "       'Bwd IAT Min', 'Fwd PSH Flags', 'Bwd PSH Flags', 'Fwd URG Flags',\n",
      "       'Bwd URG Flags', 'Fwd Header Len', 'Bwd Header Len', 'Fwd Pkts/s',\n",
      "       'Bwd Pkts/s', 'Pkt Len Min', 'Pkt Len Max', 'Pkt Len Mean',\n",
      "       'Pkt Len Std', 'Pkt Len Var', 'FIN Flag Cnt', 'SYN Flag Cnt',\n",
      "       'RST Flag Cnt', 'PSH Flag Cnt', 'ACK Flag Cnt', 'URG Flag Cnt',\n",
      "       'CWE Flag Count', 'ECE Flag Cnt', 'Down/Up Ratio', 'Pkt Size Avg',\n",
      "       'Fwd Seg Size Avg', 'Bwd Seg Size Avg', 'Fwd Byts/b Avg',\n",
      "       'Fwd Pkts/b Avg', 'Fwd Blk Rate Avg', 'Bwd Byts/b Avg',\n",
      "       'Bwd Pkts/b Avg', 'Bwd Blk Rate Avg', 'Subflow Fwd Pkts',\n",
      "       'Subflow Fwd Byts', 'Subflow Bwd Pkts', 'Subflow Bwd Byts',\n",
      "       'Init Fwd Win Byts', 'Init Bwd Win Byts', 'Fwd Act Data Pkts',\n",
      "       'Fwd Seg Size Min', 'Active Mean', 'Active Std', 'Active Max',\n",
      "       'Active Min', 'Idle Mean', 'Idle Std', 'Idle Max', 'Idle Min',\n",
      "       'Label_FTP-BruteForce', 'Label_SSH-Bruteforce'],\n",
      "      dtype='object')\n"
     ]
    }
   ],
   "source": [
    "print(correlation_matrix.columns)"
   ]
  },
  {
   "cell_type": "code",
   "execution_count": 8,
   "id": "f0f7e13b-db77-40bc-ba58-526040f8a6fb",
   "metadata": {},
   "outputs": [],
   "source": [
    "correlation_ftp = correlation_matrix['Label_FTP-BruteForce'].drop('Label_FTP-BruteForce')\n",
    "correlation_ssh = correlation_matrix['Label_SSH-Bruteforce'].drop('Label_SSH-Bruteforce')\n",
    "\n",
    "threshold = 0.05\n",
    "\n",
    "low_corr_ftp = correlation_ftp[abs(correlation_ftp) < threshold].index\n",
    "low_corr_ssh = correlation_ssh[abs(correlation_ssh) < threshold].index\n",
    "\n",
    "low_correlation_columns = low_corr_ftp.intersection(low_corr_ssh)\n",
    "\n",
    "data_cleaned = data.drop(low_correlation_columns, axis=1)\n",
    "# dropped columns w low corr"
   ]
  },
  {
   "cell_type": "markdown",
   "id": "5daad63a-ac38-4a4f-800d-82c9967003f9",
   "metadata": {
    "scrolled": true
   },
   "source": [
    "##### data_cleaned"
   ]
  },
  {
   "cell_type": "code",
   "execution_count": 9,
   "id": "ce1ad383-7763-468b-ab4e-c60349cbc025",
   "metadata": {},
   "outputs": [],
   "source": [
    "# just checking"
   ]
  },
  {
   "cell_type": "code",
   "execution_count": 10,
   "id": "7aaabd79-6565-4ac6-93dd-ad3c37b60ab7",
   "metadata": {},
   "outputs": [],
   "source": [
    "ftp_true_count = data_cleaned['Label_FTP-BruteForce'].sum()\n",
    "ssh_true_count = data_cleaned['Label_SSH-Bruteforce'].sum()"
   ]
  },
  {
   "cell_type": "code",
   "execution_count": 11,
   "id": "71e23c18-af28-4c6d-9c09-61058c1d87af",
   "metadata": {},
   "outputs": [],
   "source": [
    "both_false_count = ((~data_cleaned['Label_FTP-BruteForce']) & \n",
    "                    (~data_cleaned['Label_SSH-Bruteforce'])).sum()"
   ]
  },
  {
   "cell_type": "code",
   "execution_count": 12,
   "id": "1d85560d-9303-4e15-9b05-75371950b188",
   "metadata": {},
   "outputs": [
    {
     "data": {
      "text/plain": [
       "665355"
      ]
     },
     "execution_count": 12,
     "metadata": {},
     "output_type": "execute_result"
    }
   ],
   "source": [
    "both_false_count"
   ]
  },
  {
   "cell_type": "code",
   "execution_count": 13,
   "id": "896bb543-631d-465c-852e-c8f40653b40c",
   "metadata": {},
   "outputs": [
    {
     "name": "stdout",
     "output_type": "stream",
     "text": [
      "Number of True values in FTP BruteForce: 193354\n",
      "Number of True values in SSH BruteForce: 187589\n"
     ]
    }
   ],
   "source": [
    "print(f\"Number of True values in FTP BruteForce: {ftp_true_count}\")\n",
    "print(f\"Number of True values in SSH BruteForce: {ssh_true_count}\")"
   ]
  },
  {
   "cell_type": "code",
   "execution_count": 14,
   "id": "7f91ba06-cbe5-4601-b4bb-b6a86e6df277",
   "metadata": {},
   "outputs": [
    {
     "data": {
      "text/plain": [
       "([<matplotlib.patches.Wedge at 0x227341b3250>,\n",
       "  <matplotlib.patches.Wedge at 0x22734360290>,\n",
       "  <matplotlib.patches.Wedge at 0x22734360650>],\n",
       " [Text(0.919770764582218, 0.6033421422541627, 'FTP Brute Force (True)'),\n",
       "  Text(-0.16827023239926434, 1.0870534158394876, 'SSH Brute Force (True)'),\n",
       "  Text(-0.4555409498076455, -1.0012404521633893, 'Both False')])"
      ]
     },
     "execution_count": 14,
     "metadata": {},
     "output_type": "execute_result"
    },
    {
     "data": {
      "image/png": "[encoded data removed]",
      "text/plain": [
       "<Figure size 640x480 with 1 Axes>"
      ]
     },
     "metadata": {},
     "output_type": "display_data"
    }
   ],
   "source": [
    "import matplotlib.pyplot as plt\n",
    "counts = [ftp_true_count, ssh_true_count, both_false_count]\n",
    "labels = ['FTP Brute Force (True)', 'SSH Brute Force (True)', 'Both False']\n",
    "plt.pie(counts, labels=labels)\n",
    "\n"
   ]
  },
  {
   "cell_type": "code",
   "execution_count": 15,
   "id": "2dd80fbd-9196-4ef2-8a51-8c39ee35d7fb",
   "metadata": {},
   "outputs": [],
   "source": [
    "# biased data\n",
    "# making vae\n",
    "# Data Balance: A VAE can generate synthetic data points for underrepresented classes (FTP True and SSH True), creating a more balanced dataset.\n",
    "# Preserving Important Patterns: Simply dropping benign data might remove useful information, whereas VAEs allow the model to learn complex patterns in the minority classes.\n",
    "# Controlled Data Augmentation: VAEs provide a way to generate realistic samples based on the learned latent representation, making the generated data more consistent with real-world scenarios."
   ]
  },
  {
   "cell_type": "code",
   "execution_count": 16,
   "id": "80760fdb-a7dc-47cd-ae86-edc759d3d740",
   "metadata": {},
   "outputs": [
    {
     "name": "stdout",
     "output_type": "stream",
     "text": [
      "WARNING:tensorflow:From C:\\Users\\sanam\\AppData\\Local\\Programs\\Python\\Python311\\Lib\\site-packages\\keras\\src\\losses.py:2976: The name tf.losses.sparse_softmax_cross_entropy is deprecated. Please use tf.compat.v1.losses.sparse_softmax_cross_entropy instead.\n",
      "\n"
     ]
    }
   ],
   "source": [
    "import numpy as np\n",
    "import pandas as pd\n",
    "from sklearn.preprocessing import StandardScaler\n",
    "from sklearn.model_selection import train_test_split\n",
    "from tensorflow.keras.models import Model\n",
    "from tensorflow.keras.layers import Input, Dense\n",
    "from sklearn.metrics import confusion_matrix, classification_report\n"
   ]
  },
  {
   "cell_type": "code",
   "execution_count": 17,
   "id": "d2c2efac-83a7-4f36-b546-18564e3ca486",
   "metadata": {},
   "outputs": [],
   "source": [
    "data = data_cleaned"
   ]
  },
  {
   "cell_type": "code",
   "execution_count": 18,
   "id": "78ed1dcc-ccdd-4bed-8dd0-a9d013113c23",
   "metadata": {},
   "outputs": [],
   "source": [
    "data.replace([np.inf, -np.inf], np.nan, inplace=True)"
   ]
  },
  {
   "cell_type": "code",
   "execution_count": 19,
   "id": "4c3b69c2-2372-41f1-aa82-c652559c391c",
   "metadata": {},
   "outputs": [],
   "source": [
    "data.fillna(data.mean(), inplace=True)\n"
   ]
  },
  {
   "cell_type": "code",
   "execution_count": 23,
   "id": "951b71d8-3f4d-4b9e-a3c1-217c970a94bc",
   "metadata": {},
   "outputs": [],
   "source": [
    "features = data.drop(['Label_FTP-BruteForce', 'Label_SSH-Bruteforce'], axis=1)\n",
    "labels = data[['Label_FTP-BruteForce', 'Label_SSH-Bruteforce']]\n"
   ]
  },
  {
   "cell_type": "code",
   "execution_count": 24,
   "id": "43f4897e-ac71-495b-8e62-0fe7ebddbc7d",
   "metadata": {},
   "outputs": [],
   "source": [
    "scaler = StandardScaler()\n",
    "features_scaled = scaler.fit_transform(features)\n"
   ]
  },
  {
   "cell_type": "code",
   "execution_count": 25,
   "id": "da5e8237-37f5-4e45-9e16-1bc2863dba1e",
   "metadata": {},
   "outputs": [],
   "source": [
    "# Train on benign data only (both labels are False)\n",
    "benign_data = features_scaled[(labels['Label_FTP-BruteForce'] == False) & \n",
    "                              (labels['Label_SSH-Bruteforce'] == False)]\n",
    "\n"
   ]
  },
  {
   "cell_type": "code",
   "execution_count": 26,
   "id": "6be4bac5-3996-45ce-a82e-d124ba3e9299",
   "metadata": {},
   "outputs": [],
   "source": [
    "# Split benign data into training and validation sets\n",
    "X_train, X_val = train_test_split(benign_data, test_size=0.2, random_state=42)\n"
   ]
  },
  {
   "cell_type": "code",
   "execution_count": 27,
   "id": "5121088d-9107-45fc-942c-991c829e83a9",
   "metadata": {},
   "outputs": [],
   "source": [
    "# 2. Build the Autoencoder Model\n",
    "input_dim = X_train.shape[1]\n",
    "encoding_dim = 16  # Size of the encoding layer"
   ]
  },
  {
   "cell_type": "code",
   "execution_count": 28,
   "id": "ce312470-3b62-4455-9da5-e70948e2b45a",
   "metadata": {},
   "outputs": [
    {
     "name": "stdout",
     "output_type": "stream",
     "text": [
      "WARNING:tensorflow:From C:\\Users\\sanam\\AppData\\Local\\Programs\\Python\\Python311\\Lib\\site-packages\\keras\\src\\backend.py:1398: The name tf.executing_eagerly_outside_functions is deprecated. Please use tf.compat.v1.executing_eagerly_outside_functions instead.\n",
      "\n"
     ]
    }
   ],
   "source": [
    "input_layer = Input(shape=(input_dim,))\n",
    "encoder = Dense(encoding_dim, activation='relu')(input_layer)\n",
    "decoder = Dense(input_dim, activation='linear')(encoder)\n"
   ]
  },
  {
   "cell_type": "code",
   "execution_count": 29,
   "id": "568bdc95-1b6d-4e2e-81f3-a4f94b4464c1",
   "metadata": {},
   "outputs": [
    {
     "name": "stdout",
     "output_type": "stream",
     "text": [
      "WARNING:tensorflow:From C:\\Users\\sanam\\AppData\\Local\\Programs\\Python\\Python311\\Lib\\site-packages\\keras\\src\\optimizers\\__init__.py:309: The name tf.train.Optimizer is deprecated. Please use tf.compat.v1.train.Optimizer instead.\n",
      "\n"
     ]
    }
   ],
   "source": [
    "autoencoder = Model(inputs=input_layer, outputs=decoder)\n",
    "autoencoder.compile(optimizer='adam', loss='mse')\n"
   ]
  },
  {
   "cell_type": "code",
   "execution_count": 30,
   "id": "8f8a1122-ee7f-4c43-b633-d337528da358",
   "metadata": {
    "scrolled": true
   },
   "outputs": [
    {
     "name": "stdout",
     "output_type": "stream",
     "text": [
      "Epoch 1/50\n",
      "WARNING:tensorflow:From C:\\Users\\sanam\\AppData\\Local\\Programs\\Python\\Python311\\Lib\\site-packages\\keras\\src\\utils\\tf_utils.py:492: The name tf.ragged.RaggedTensorValue is deprecated. Please use tf.compat.v1.ragged.RaggedTensorValue instead.\n",
      "\n",
      "16634/16634 [==============================] - 41s 2ms/step - loss: 0.1166 - val_loss: 0.0958\n",
      "Epoch 2/50\n",
      "16634/16634 [==============================] - 37s 2ms/step - loss: 0.0762 - val_loss: 0.0715\n",
      "Epoch 3/50\n",
      "16634/16634 [==============================] - 37s 2ms/step - loss: 0.0781 - val_loss: 0.0699\n",
      "Epoch 4/50\n",
      "16634/16634 [==============================] - 35s 2ms/step - loss: 0.0752 - val_loss: 0.0743\n",
      "Epoch 5/50\n",
      "16634/16634 [==============================] - 34s 2ms/step - loss: 0.0741 - val_loss: 0.0695\n",
      "Epoch 6/50\n",
      "16634/16634 [==============================] - 33s 2ms/step - loss: 0.0734 - val_loss: 0.0718\n",
      "Epoch 7/50\n",
      "16634/16634 [==============================] - 35s 2ms/step - loss: 0.0739 - val_loss: 0.0760\n",
      "Epoch 8/50\n",
      "16634/16634 [==============================] - 36s 2ms/step - loss: 0.0748 - val_loss: 0.0695\n",
      "Epoch 9/50\n",
      "16634/16634 [==============================] - 34s 2ms/step - loss: 0.0758 - val_loss: 0.0724\n",
      "Epoch 10/50\n",
      "16634/16634 [==============================] - 36s 2ms/step - loss: 0.0744 - val_loss: 0.0741\n",
      "Epoch 11/50\n",
      "16634/16634 [==============================] - 34s 2ms/step - loss: 0.0759 - val_loss: 0.0693\n",
      "Epoch 12/50\n",
      "16634/16634 [==============================] - 34s 2ms/step - loss: 0.0748 - val_loss: 0.0704\n",
      "Epoch 13/50\n",
      "16634/16634 [==============================] - 34s 2ms/step - loss: 0.0757 - val_loss: 0.0689\n",
      "Epoch 14/50\n",
      "16634/16634 [==============================] - 35s 2ms/step - loss: 0.0723 - val_loss: 0.0751\n",
      "Epoch 15/50\n",
      "16634/16634 [==============================] - 36s 2ms/step - loss: 0.0756 - val_loss: 0.0715\n",
      "Epoch 16/50\n",
      "16634/16634 [==============================] - 38s 2ms/step - loss: 0.0750 - val_loss: 0.0707\n",
      "Epoch 17/50\n",
      "16634/16634 [==============================] - 36s 2ms/step - loss: 0.0730 - val_loss: 0.0738\n",
      "Epoch 18/50\n",
      "16634/16634 [==============================] - 35s 2ms/step - loss: 0.0743 - val_loss: 0.0703\n",
      "Epoch 19/50\n",
      "16634/16634 [==============================] - 35s 2ms/step - loss: 0.0742 - val_loss: 0.0746\n",
      "Epoch 20/50\n",
      "16634/16634 [==============================] - 36s 2ms/step - loss: 0.0739 - val_loss: 0.0719\n",
      "Epoch 21/50\n",
      "16634/16634 [==============================] - 35s 2ms/step - loss: 0.0748 - val_loss: 0.0717\n",
      "Epoch 22/50\n",
      "16634/16634 [==============================] - 38s 2ms/step - loss: 0.0741 - val_loss: 0.0760\n",
      "Epoch 23/50\n",
      "16634/16634 [==============================] - 37s 2ms/step - loss: 0.0753 - val_loss: 0.0712\n",
      "Epoch 24/50\n",
      "16634/16634 [==============================] - 38s 2ms/step - loss: 0.0742 - val_loss: 0.0723\n",
      "Epoch 25/50\n",
      "16634/16634 [==============================] - 35s 2ms/step - loss: 0.0729 - val_loss: 0.0738\n",
      "Epoch 26/50\n",
      "16634/16634 [==============================] - 36s 2ms/step - loss: 0.0756 - val_loss: 0.0717\n",
      "Epoch 27/50\n",
      "16634/16634 [==============================] - 35s 2ms/step - loss: 0.0743 - val_loss: 0.0724\n",
      "Epoch 28/50\n",
      "16634/16634 [==============================] - 35s 2ms/step - loss: 0.0745 - val_loss: 0.0756\n",
      "Epoch 29/50\n",
      "16634/16634 [==============================] - 35s 2ms/step - loss: 0.0738 - val_loss: 0.0690\n",
      "Epoch 30/50\n",
      "16634/16634 [==============================] - 36s 2ms/step - loss: 0.0758 - val_loss: 0.0937\n",
      "Epoch 31/50\n",
      "16634/16634 [==============================] - 36s 2ms/step - loss: 0.0750 - val_loss: 0.0833\n",
      "Epoch 32/50\n",
      "16634/16634 [==============================] - 37s 2ms/step - loss: 0.0739 - val_loss: 0.0720\n",
      "Epoch 33/50\n",
      "16634/16634 [==============================] - 35s 2ms/step - loss: 0.0736 - val_loss: 0.0796\n",
      "Epoch 34/50\n",
      "16634/16634 [==============================] - 36s 2ms/step - loss: 0.0740 - val_loss: 0.0722\n",
      "Epoch 35/50\n",
      "16634/16634 [==============================] - 36s 2ms/step - loss: 0.0749 - val_loss: 0.0762\n",
      "Epoch 36/50\n",
      "16634/16634 [==============================] - 35s 2ms/step - loss: 0.0731 - val_loss: 0.0714\n",
      "Epoch 37/50\n",
      "16634/16634 [==============================] - 36s 2ms/step - loss: 0.0750 - val_loss: 0.0709\n",
      "Epoch 38/50\n",
      "16634/16634 [==============================] - 36s 2ms/step - loss: 0.0739 - val_loss: 0.0693\n",
      "Epoch 39/50\n",
      "16634/16634 [==============================] - 36s 2ms/step - loss: 0.0733 - val_loss: 0.0731\n",
      "Epoch 40/50\n",
      "16634/16634 [==============================] - 39s 2ms/step - loss: 0.0739 - val_loss: 0.0708\n",
      "Epoch 41/50\n",
      "16634/16634 [==============================] - 36s 2ms/step - loss: 0.0740 - val_loss: 0.0708\n",
      "Epoch 42/50\n",
      "16634/16634 [==============================] - 40s 2ms/step - loss: 0.0744 - val_loss: 0.0703\n",
      "Epoch 43/50\n",
      "16634/16634 [==============================] - 36s 2ms/step - loss: 0.0730 - val_loss: 0.0724\n",
      "Epoch 44/50\n",
      "16634/16634 [==============================] - 35s 2ms/step - loss: 0.0748 - val_loss: 0.0710\n",
      "Epoch 45/50\n",
      "16634/16634 [==============================] - 37s 2ms/step - loss: 0.0743 - val_loss: 0.0718\n",
      "Epoch 46/50\n",
      "16634/16634 [==============================] - 36s 2ms/step - loss: 0.0748 - val_loss: 0.0716\n",
      "Epoch 47/50\n",
      "16634/16634 [==============================] - 39s 2ms/step - loss: 0.0736 - val_loss: 0.0742\n",
      "Epoch 48/50\n",
      "16634/16634 [==============================] - 53s 3ms/step - loss: 0.0730 - val_loss: 0.0852\n",
      "Epoch 49/50\n",
      "16634/16634 [==============================] - 49s 3ms/step - loss: 0.0717 - val_loss: 0.0718\n",
      "Epoch 50/50\n",
      "16634/16634 [==============================] - 43s 3ms/step - loss: 0.0741 - val_loss: 0.0716\n"
     ]
    },
    {
     "data": {
      "text/plain": [
       "<keras.src.callbacks.History at 0x279eb3c4490>"
      ]
     },
     "execution_count": 30,
     "metadata": {},
     "output_type": "execute_result"
    }
   ],
   "source": [
    "autoencoder.fit(X_train, X_train,\n",
    "                epochs=50,\n",
    "                batch_size=32,\n",
    "                validation_data=(X_val, X_val),\n",
    "                shuffle=True)\n"
   ]
  },
  {
   "cell_type": "code",
   "execution_count": 34,
   "id": "63cc5df2-ec13-4ea3-9d1e-92cfb9c9d951",
   "metadata": {},
   "outputs": [],
   "source": [
    "# 4. Calculate Reconstruction Error for the Full Dataset\n"
   ]
  },
  {
   "cell_type": "code",
   "execution_count": 33,
   "id": "429b1865-1408-49d7-baad-a7cd666a59ef",
   "metadata": {},
   "outputs": [
    {
     "name": "stdout",
     "output_type": "stream",
     "text": [
      "32697/32697 [==============================] - 44s 1ms/step\n"
     ]
    }
   ],
   "source": [
    "reconstructions = autoencoder.predict(features_scaled)\n",
    "reconstruction_errors = np.mean(np.square(features_scaled - reconstructions), axis=1)\n"
   ]
  },
  {
   "cell_type": "code",
   "execution_count": 35,
   "id": "a27264da-f20b-4c06-a9c4-13e8652c51ad",
   "metadata": {},
   "outputs": [],
   "source": [
    "# 5. Set Threshold for Anomalies\n",
    "threshold = np.percentile(reconstruction_errors, 95)  # 95th percentile\n"
   ]
  },
  {
   "cell_type": "code",
   "execution_count": 36,
   "id": "d108cbea-f23f-4f77-84ad-f11a15355536",
   "metadata": {},
   "outputs": [],
   "source": [
    "# Classify anomalies\n",
    "anomalies = reconstruction_errors > threshold\n"
   ]
  },
  {
   "cell_type": "code",
   "execution_count": 38,
   "id": "78346a91-b893-4bfa-b677-90c2cf48050b",
   "metadata": {},
   "outputs": [],
   "source": [
    "attack_type = np.where((labels['Label_FTP-BruteForce'] == True), 'FTP Brute Force',\n",
    "                       np.where((labels['Label_SSH-Bruteforce'] == True), 'SSH Brute Force', 'Benign'))\n",
    "\n"
   ]
  },
  {
   "cell_type": "code",
   "execution_count": 39,
   "id": "b9e5744b-d6dc-4458-a83c-f86139987831",
   "metadata": {
    "scrolled": true
   },
   "outputs": [
    {
     "name": "stdout",
     "output_type": "stream",
     "text": [
      "[[     0      0      0      0]\n",
      " [  3838 661517      0      0]\n",
      " [     0 193354      0      0]\n",
      " [     2 187587      0      0]]\n"
     ]
    },
    {
     "name": "stderr",
     "output_type": "stream",
     "text": [
      "C:\\Users\\sanam\\AppData\\Local\\Programs\\Python\\Python311\\Lib\\site-packages\\sklearn\\metrics\\_classification.py:1471: UndefinedMetricWarning: Precision and F-score are ill-defined and being set to 0.0 in labels with no predicted samples. Use `zero_division` parameter to control this behavior.\n",
      "  _warn_prf(average, modifier, msg_start, len(result))\n",
      "C:\\Users\\sanam\\AppData\\Local\\Programs\\Python\\Python311\\Lib\\site-packages\\sklearn\\metrics\\_classification.py:1471: UndefinedMetricWarning: Recall and F-score are ill-defined and being set to 0.0 in labels with no true samples. Use `zero_division` parameter to control this behavior.\n",
      "  _warn_prf(average, modifier, msg_start, len(result))\n",
      "C:\\Users\\sanam\\AppData\\Local\\Programs\\Python\\Python311\\Lib\\site-packages\\sklearn\\metrics\\_classification.py:1471: UndefinedMetricWarning: Precision and F-score are ill-defined and being set to 0.0 in labels with no predicted samples. Use `zero_division` parameter to control this behavior.\n",
      "  _warn_prf(average, modifier, msg_start, len(result))\n",
      "C:\\Users\\sanam\\AppData\\Local\\Programs\\Python\\Python311\\Lib\\site-packages\\sklearn\\metrics\\_classification.py:1471: UndefinedMetricWarning: Recall and F-score are ill-defined and being set to 0.0 in labels with no true samples. Use `zero_division` parameter to control this behavior.\n",
      "  _warn_prf(average, modifier, msg_start, len(result))\n"
     ]
    },
    {
     "name": "stdout",
     "output_type": "stream",
     "text": [
      "                 precision    recall  f1-score   support\n",
      "\n",
      "         Attack       0.00      0.00      0.00         0\n",
      "         Benign       0.63      0.99      0.77    665355\n",
      "FTP Brute Force       0.00      0.00      0.00    193354\n",
      "SSH Brute Force       0.00      0.00      0.00    187589\n",
      "\n",
      "       accuracy                           0.63   1046298\n",
      "      macro avg       0.16      0.25      0.19   1046298\n",
      "   weighted avg       0.40      0.63      0.49   1046298\n",
      "\n"
     ]
    },
    {
     "name": "stderr",
     "output_type": "stream",
     "text": [
      "C:\\Users\\sanam\\AppData\\Local\\Programs\\Python\\Python311\\Lib\\site-packages\\sklearn\\metrics\\_classification.py:1471: UndefinedMetricWarning: Precision and F-score are ill-defined and being set to 0.0 in labels with no predicted samples. Use `zero_division` parameter to control this behavior.\n",
      "  _warn_prf(average, modifier, msg_start, len(result))\n",
      "C:\\Users\\sanam\\AppData\\Local\\Programs\\Python\\Python311\\Lib\\site-packages\\sklearn\\metrics\\_classification.py:1471: UndefinedMetricWarning: Recall and F-score are ill-defined and being set to 0.0 in labels with no true samples. Use `zero_division` parameter to control this behavior.\n",
      "  _warn_prf(average, modifier, msg_start, len(result))\n"
     ]
    }
   ],
   "source": [
    "# Evaluate the Model\n",
    "print(confusion_matrix(attack_type, np.where(anomalies, 'Attack', 'Benign')))\n",
    "print(classification_report(attack_type, np.where(anomalies, 'Attack', 'Benign')))\n"
   ]
  },
  {
   "cell_type": "code",
   "execution_count": 40,
   "id": "df39e2f5-d7c6-40d5-a87b-ea4added5fc6",
   "metadata": {},
   "outputs": [],
   "source": [
    "from sklearn.metrics import confusion_matrix, classification_report\n"
   ]
  },
  {
   "cell_type": "code",
   "execution_count": 41,
   "id": "0f4dc7fa-fc65-425a-b087-ad7eb1450add",
   "metadata": {},
   "outputs": [],
   "source": [
    "binary_labels = np.where((labels['Label_FTP-BruteForce'] == True) | \n",
    "                         (labels['Label_SSH-Bruteforce'] == True), 'Attack', 'Benign')\n"
   ]
  },
  {
   "cell_type": "code",
   "execution_count": 42,
   "id": "f210c667-6ee3-436d-84d9-0ef6671429c2",
   "metadata": {},
   "outputs": [
    {
     "name": "stdout",
     "output_type": "stream",
     "text": [
      "Confusion Matrix:\n",
      "[[     2 380941]\n",
      " [  3838 661517]]\n"
     ]
    }
   ],
   "source": [
    "# Evaluate the model with binary labels\n",
    "print(\"Confusion Matrix:\")\n",
    "print(confusion_matrix(binary_labels, np.where(anomalies, 'Attack', 'Benign')))\n"
   ]
  },
  {
   "cell_type": "code",
   "execution_count": 43,
   "id": "4015b3ac-8ebe-4475-80ed-62d74f990c19",
   "metadata": {},
   "outputs": [
    {
     "name": "stdout",
     "output_type": "stream",
     "text": [
      "\n",
      "Classification Report:\n",
      "              precision    recall  f1-score   support\n",
      "\n",
      "      Attack       0.00      0.00      0.00    380943\n",
      "      Benign       0.63      0.99      0.77    665355\n",
      "\n",
      "    accuracy                           0.63   1046298\n",
      "   macro avg       0.32      0.50      0.39   1046298\n",
      "weighted avg       0.40      0.63      0.49   1046298\n",
      "\n"
     ]
    }
   ],
   "source": [
    "print(\"\\nClassification Report:\")\n",
    "print(classification_report(binary_labels, np.where(anomalies, 'Attack', 'Benign')))"
   ]
  },
  {
   "cell_type": "code",
   "execution_count": 50,
   "id": "7778a0a0-f121-47a5-b762-37213343ba21",
   "metadata": {},
   "outputs": [],
   "source": [
    "# above was without vae "
   ]
  },
  {
   "cell_type": "code",
   "execution_count": 21,
   "id": "9b9c7e42-8dfc-4370-945a-86a38b0dfc3e",
   "metadata": {},
   "outputs": [],
   "source": [
    "# trying to increase attacks but still train on beningn \n",
    "df = data"
   ]
  },
  {
   "cell_type": "code",
   "execution_count": 22,
   "id": "fab1ba49-43c7-44bf-b31b-885875e5c490",
   "metadata": {},
   "outputs": [
    {
     "ename": "KeyError",
     "evalue": "'Label'",
     "output_type": "error",
     "traceback": [
      "\u001b[1;31m---------------------------------------------------------------------------\u001b[0m",
      "\u001b[1;31mKeyError\u001b[0m                                  Traceback (most recent call last)",
      "File \u001b[1;32m~\\AppData\\Local\\Programs\\Python\\Python311\\Lib\\site-packages\\pandas\\core\\indexes\\base.py:3790\u001b[0m, in \u001b[0;36mIndex.get_loc\u001b[1;34m(self, key)\u001b[0m\n\u001b[0;32m   3789\u001b[0m \u001b[38;5;28;01mtry\u001b[39;00m:\n\u001b[1;32m-> 3790\u001b[0m     \u001b[38;5;28;01mreturn\u001b[39;00m \u001b[38;5;28;43mself\u001b[39;49m\u001b[38;5;241;43m.\u001b[39;49m\u001b[43m_engine\u001b[49m\u001b[38;5;241;43m.\u001b[39;49m\u001b[43mget_loc\u001b[49m\u001b[43m(\u001b[49m\u001b[43mcasted_key\u001b[49m\u001b[43m)\u001b[49m\n\u001b[0;32m   3791\u001b[0m \u001b[38;5;28;01mexcept\u001b[39;00m \u001b[38;5;167;01mKeyError\u001b[39;00m \u001b[38;5;28;01mas\u001b[39;00m err:\n",
      "File \u001b[1;32mindex.pyx:152\u001b[0m, in \u001b[0;36mpandas._libs.index.IndexEngine.get_loc\u001b[1;34m()\u001b[0m\n",
      "File \u001b[1;32mindex.pyx:181\u001b[0m, in \u001b[0;36mpandas._libs.index.IndexEngine.get_loc\u001b[1;34m()\u001b[0m\n",
      "File \u001b[1;32mpandas\\_libs\\hashtable_class_helper.pxi:7080\u001b[0m, in \u001b[0;36mpandas._libs.hashtable.PyObjectHashTable.get_item\u001b[1;34m()\u001b[0m\n",
      "File \u001b[1;32mpandas\\_libs\\hashtable_class_helper.pxi:7088\u001b[0m, in \u001b[0;36mpandas._libs.hashtable.PyObjectHashTable.get_item\u001b[1;34m()\u001b[0m\n",
      "\u001b[1;31mKeyError\u001b[0m: 'Label'",
      "\nThe above exception was the direct cause of the following exception:\n",
      "\u001b[1;31mKeyError\u001b[0m                                  Traceback (most recent call last)",
      "Cell \u001b[1;32mIn[22], line 1\u001b[0m\n\u001b[1;32m----> 1\u001b[0m benign_data \u001b[38;5;241m=\u001b[39m df[\u001b[43mdf\u001b[49m\u001b[43m[\u001b[49m\u001b[38;5;124;43m'\u001b[39;49m\u001b[38;5;124;43mLabel\u001b[39;49m\u001b[38;5;124;43m'\u001b[39;49m\u001b[43m]\u001b[49m \u001b[38;5;241m==\u001b[39m \u001b[38;5;124m'\u001b[39m\u001b[38;5;124mBenign\u001b[39m\u001b[38;5;124m'\u001b[39m]\u001b[38;5;241m.\u001b[39mdrop(columns\u001b[38;5;241m=\u001b[39m[\u001b[38;5;124m'\u001b[39m\u001b[38;5;124mLabel\u001b[39m\u001b[38;5;124m'\u001b[39m])\n\u001b[0;32m      2\u001b[0m attack_data \u001b[38;5;241m=\u001b[39m df[df[\u001b[38;5;124m'\u001b[39m\u001b[38;5;124mLabel\u001b[39m\u001b[38;5;124m'\u001b[39m] \u001b[38;5;241m!=\u001b[39m \u001b[38;5;124m'\u001b[39m\u001b[38;5;124mBenign\u001b[39m\u001b[38;5;124m'\u001b[39m]\u001b[38;5;241m.\u001b[39mdrop(columns\u001b[38;5;241m=\u001b[39m[\u001b[38;5;124m'\u001b[39m\u001b[38;5;124mLabel\u001b[39m\u001b[38;5;124m'\u001b[39m])\n\u001b[0;32m      4\u001b[0m \u001b[38;5;66;03m# Normalize the dataset\u001b[39;00m\n",
      "File \u001b[1;32m~\\AppData\\Local\\Programs\\Python\\Python311\\Lib\\site-packages\\pandas\\core\\frame.py:3893\u001b[0m, in \u001b[0;36mDataFrame.__getitem__\u001b[1;34m(self, key)\u001b[0m\n\u001b[0;32m   3891\u001b[0m \u001b[38;5;28;01mif\u001b[39;00m \u001b[38;5;28mself\u001b[39m\u001b[38;5;241m.\u001b[39mcolumns\u001b[38;5;241m.\u001b[39mnlevels \u001b[38;5;241m>\u001b[39m \u001b[38;5;241m1\u001b[39m:\n\u001b[0;32m   3892\u001b[0m     \u001b[38;5;28;01mreturn\u001b[39;00m \u001b[38;5;28mself\u001b[39m\u001b[38;5;241m.\u001b[39m_getitem_multilevel(key)\n\u001b[1;32m-> 3893\u001b[0m indexer \u001b[38;5;241m=\u001b[39m \u001b[38;5;28;43mself\u001b[39;49m\u001b[38;5;241;43m.\u001b[39;49m\u001b[43mcolumns\u001b[49m\u001b[38;5;241;43m.\u001b[39;49m\u001b[43mget_loc\u001b[49m\u001b[43m(\u001b[49m\u001b[43mkey\u001b[49m\u001b[43m)\u001b[49m\n\u001b[0;32m   3894\u001b[0m \u001b[38;5;28;01mif\u001b[39;00m is_integer(indexer):\n\u001b[0;32m   3895\u001b[0m     indexer \u001b[38;5;241m=\u001b[39m [indexer]\n",
      "File \u001b[1;32m~\\AppData\\Local\\Programs\\Python\\Python311\\Lib\\site-packages\\pandas\\core\\indexes\\base.py:3797\u001b[0m, in \u001b[0;36mIndex.get_loc\u001b[1;34m(self, key)\u001b[0m\n\u001b[0;32m   3792\u001b[0m     \u001b[38;5;28;01mif\u001b[39;00m \u001b[38;5;28misinstance\u001b[39m(casted_key, \u001b[38;5;28mslice\u001b[39m) \u001b[38;5;129;01mor\u001b[39;00m (\n\u001b[0;32m   3793\u001b[0m         \u001b[38;5;28misinstance\u001b[39m(casted_key, abc\u001b[38;5;241m.\u001b[39mIterable)\n\u001b[0;32m   3794\u001b[0m         \u001b[38;5;129;01mand\u001b[39;00m \u001b[38;5;28many\u001b[39m(\u001b[38;5;28misinstance\u001b[39m(x, \u001b[38;5;28mslice\u001b[39m) \u001b[38;5;28;01mfor\u001b[39;00m x \u001b[38;5;129;01min\u001b[39;00m casted_key)\n\u001b[0;32m   3795\u001b[0m     ):\n\u001b[0;32m   3796\u001b[0m         \u001b[38;5;28;01mraise\u001b[39;00m InvalidIndexError(key)\n\u001b[1;32m-> 3797\u001b[0m     \u001b[38;5;28;01mraise\u001b[39;00m \u001b[38;5;167;01mKeyError\u001b[39;00m(key) \u001b[38;5;28;01mfrom\u001b[39;00m \u001b[38;5;21;01merr\u001b[39;00m\n\u001b[0;32m   3798\u001b[0m \u001b[38;5;28;01mexcept\u001b[39;00m \u001b[38;5;167;01mTypeError\u001b[39;00m:\n\u001b[0;32m   3799\u001b[0m     \u001b[38;5;66;03m# If we have a listlike key, _check_indexing_error will raise\u001b[39;00m\n\u001b[0;32m   3800\u001b[0m     \u001b[38;5;66;03m#  InvalidIndexError. Otherwise we fall through and re-raise\u001b[39;00m\n\u001b[0;32m   3801\u001b[0m     \u001b[38;5;66;03m#  the TypeError.\u001b[39;00m\n\u001b[0;32m   3802\u001b[0m     \u001b[38;5;28mself\u001b[39m\u001b[38;5;241m.\u001b[39m_check_indexing_error(key)\n",
      "\u001b[1;31mKeyError\u001b[0m: 'Label'"
     ]
    }
   ],
   "source": [
    "benign_data = df[df['Label'] == 'Benign'].drop(columns=['Label'])\n",
    "attack_data = df[df['Label'] != 'Benign'].drop(columns=['Label'])\n",
    "\n",
    "# Normalize the dataset\n",
    "scaler = MinMaxScaler()\n",
    "benign_data_scaled = scaler.fit_transform(benign_data)\n",
    "attack_data_scaled = scaler.transform(attack_data)  # Apply the same scaler to attack data\n",
    "\n",
    "# Optional: Apply PCA for feature selection and dimensionality reduction\n",
    "# Adjust the number of components according to desired variance retention\n",
    "pca = PCA(n_components=20)\n",
    "benign_data_scaled = pca.fit_transform(benign_data_scaled)\n",
    "attack_data_scaled = pca.transform(attack_data_scaled)"
   ]
  },
  {
   "cell_type": "code",
   "execution_count": 23,
   "id": "3ae75e3a-a301-4a84-a60c-1e36d22d11b1",
   "metadata": {},
   "outputs": [
    {
     "data": {
      "text/html": [
       "<div>\n",
       "<style scoped>\n",
       "    .dataframe tbody tr th:only-of-type {\n",
       "        vertical-align: middle;\n",
       "    }\n",
       "\n",
       "    .dataframe tbody tr th {\n",
       "        vertical-align: top;\n",
       "    }\n",
       "\n",
       "    .dataframe thead th {\n",
       "        text-align: right;\n",
       "    }\n",
       "</style>\n",
       "<table border=\"1\" class=\"dataframe\">\n",
       "  <thead>\n",
       "    <tr style=\"text-align: right;\">\n",
       "      <th></th>\n",
       "      <th>Dst Port</th>\n",
       "      <th>Protocol</th>\n",
       "      <th>Tot Fwd Pkts</th>\n",
       "      <th>Fwd Pkt Len Max</th>\n",
       "      <th>Fwd Pkt Len Min</th>\n",
       "      <th>Fwd Pkt Len Mean</th>\n",
       "      <th>Fwd Pkt Len Std</th>\n",
       "      <th>Bwd Pkt Len Max</th>\n",
       "      <th>Bwd Pkt Len Min</th>\n",
       "      <th>Bwd Pkt Len Mean</th>\n",
       "      <th>...</th>\n",
       "      <th>Bwd Blk Rate Avg</th>\n",
       "      <th>Subflow Fwd Pkts</th>\n",
       "      <th>Init Fwd Win Byts</th>\n",
       "      <th>Init Bwd Win Byts</th>\n",
       "      <th>Fwd Act Data Pkts</th>\n",
       "      <th>Fwd Seg Size Min</th>\n",
       "      <th>Active Max</th>\n",
       "      <th>Idle Min</th>\n",
       "      <th>Label_FTP-BruteForce</th>\n",
       "      <th>Label_SSH-Bruteforce</th>\n",
       "    </tr>\n",
       "  </thead>\n",
       "  <tbody>\n",
       "    <tr>\n",
       "      <th>0</th>\n",
       "      <td>0</td>\n",
       "      <td>0</td>\n",
       "      <td>3</td>\n",
       "      <td>0</td>\n",
       "      <td>0</td>\n",
       "      <td>0.000000</td>\n",
       "      <td>0.000000</td>\n",
       "      <td>0</td>\n",
       "      <td>0</td>\n",
       "      <td>0.000000</td>\n",
       "      <td>...</td>\n",
       "      <td>0</td>\n",
       "      <td>3</td>\n",
       "      <td>-1</td>\n",
       "      <td>-1</td>\n",
       "      <td>0</td>\n",
       "      <td>0</td>\n",
       "      <td>0</td>\n",
       "      <td>56320761</td>\n",
       "      <td>False</td>\n",
       "      <td>False</td>\n",
       "    </tr>\n",
       "    <tr>\n",
       "      <th>1</th>\n",
       "      <td>0</td>\n",
       "      <td>0</td>\n",
       "      <td>3</td>\n",
       "      <td>0</td>\n",
       "      <td>0</td>\n",
       "      <td>0.000000</td>\n",
       "      <td>0.000000</td>\n",
       "      <td>0</td>\n",
       "      <td>0</td>\n",
       "      <td>0.000000</td>\n",
       "      <td>...</td>\n",
       "      <td>0</td>\n",
       "      <td>3</td>\n",
       "      <td>-1</td>\n",
       "      <td>-1</td>\n",
       "      <td>0</td>\n",
       "      <td>0</td>\n",
       "      <td>0</td>\n",
       "      <td>56320652</td>\n",
       "      <td>False</td>\n",
       "      <td>False</td>\n",
       "    </tr>\n",
       "    <tr>\n",
       "      <th>2</th>\n",
       "      <td>0</td>\n",
       "      <td>0</td>\n",
       "      <td>3</td>\n",
       "      <td>0</td>\n",
       "      <td>0</td>\n",
       "      <td>0.000000</td>\n",
       "      <td>0.000000</td>\n",
       "      <td>0</td>\n",
       "      <td>0</td>\n",
       "      <td>0.000000</td>\n",
       "      <td>...</td>\n",
       "      <td>0</td>\n",
       "      <td>3</td>\n",
       "      <td>-1</td>\n",
       "      <td>-1</td>\n",
       "      <td>0</td>\n",
       "      <td>0</td>\n",
       "      <td>0</td>\n",
       "      <td>56319098</td>\n",
       "      <td>False</td>\n",
       "      <td>False</td>\n",
       "    </tr>\n",
       "    <tr>\n",
       "      <th>3</th>\n",
       "      <td>22</td>\n",
       "      <td>6</td>\n",
       "      <td>15</td>\n",
       "      <td>744</td>\n",
       "      <td>0</td>\n",
       "      <td>82.600000</td>\n",
       "      <td>196.741237</td>\n",
       "      <td>976</td>\n",
       "      <td>0</td>\n",
       "      <td>227.300000</td>\n",
       "      <td>...</td>\n",
       "      <td>0</td>\n",
       "      <td>15</td>\n",
       "      <td>65535</td>\n",
       "      <td>233</td>\n",
       "      <td>6</td>\n",
       "      <td>32</td>\n",
       "      <td>0</td>\n",
       "      <td>0</td>\n",
       "      <td>False</td>\n",
       "      <td>False</td>\n",
       "    </tr>\n",
       "    <tr>\n",
       "      <th>4</th>\n",
       "      <td>22</td>\n",
       "      <td>6</td>\n",
       "      <td>14</td>\n",
       "      <td>744</td>\n",
       "      <td>0</td>\n",
       "      <td>81.642857</td>\n",
       "      <td>203.745545</td>\n",
       "      <td>976</td>\n",
       "      <td>0</td>\n",
       "      <td>200.818182</td>\n",
       "      <td>...</td>\n",
       "      <td>0</td>\n",
       "      <td>14</td>\n",
       "      <td>5808</td>\n",
       "      <td>233</td>\n",
       "      <td>6</td>\n",
       "      <td>32</td>\n",
       "      <td>0</td>\n",
       "      <td>0</td>\n",
       "      <td>False</td>\n",
       "      <td>False</td>\n",
       "    </tr>\n",
       "    <tr>\n",
       "      <th>...</th>\n",
       "      <td>...</td>\n",
       "      <td>...</td>\n",
       "      <td>...</td>\n",
       "      <td>...</td>\n",
       "      <td>...</td>\n",
       "      <td>...</td>\n",
       "      <td>...</td>\n",
       "      <td>...</td>\n",
       "      <td>...</td>\n",
       "      <td>...</td>\n",
       "      <td>...</td>\n",
       "      <td>...</td>\n",
       "      <td>...</td>\n",
       "      <td>...</td>\n",
       "      <td>...</td>\n",
       "      <td>...</td>\n",
       "      <td>...</td>\n",
       "      <td>...</td>\n",
       "      <td>...</td>\n",
       "      <td>...</td>\n",
       "      <td>...</td>\n",
       "    </tr>\n",
       "    <tr>\n",
       "      <th>1048570</th>\n",
       "      <td>80</td>\n",
       "      <td>6</td>\n",
       "      <td>5</td>\n",
       "      <td>587</td>\n",
       "      <td>0</td>\n",
       "      <td>217.800000</td>\n",
       "      <td>299.745225</td>\n",
       "      <td>1334</td>\n",
       "      <td>0</td>\n",
       "      <td>384.600000</td>\n",
       "      <td>...</td>\n",
       "      <td>0</td>\n",
       "      <td>5</td>\n",
       "      <td>8192</td>\n",
       "      <td>31111</td>\n",
       "      <td>2</td>\n",
       "      <td>20</td>\n",
       "      <td>0</td>\n",
       "      <td>0</td>\n",
       "      <td>False</td>\n",
       "      <td>False</td>\n",
       "    </tr>\n",
       "    <tr>\n",
       "      <th>1048571</th>\n",
       "      <td>80</td>\n",
       "      <td>6</td>\n",
       "      <td>2</td>\n",
       "      <td>0</td>\n",
       "      <td>0</td>\n",
       "      <td>0.000000</td>\n",
       "      <td>0.000000</td>\n",
       "      <td>0</td>\n",
       "      <td>0</td>\n",
       "      <td>0.000000</td>\n",
       "      <td>...</td>\n",
       "      <td>0</td>\n",
       "      <td>2</td>\n",
       "      <td>64240</td>\n",
       "      <td>-1</td>\n",
       "      <td>0</td>\n",
       "      <td>20</td>\n",
       "      <td>0</td>\n",
       "      <td>0</td>\n",
       "      <td>False</td>\n",
       "      <td>False</td>\n",
       "    </tr>\n",
       "    <tr>\n",
       "      <th>1048572</th>\n",
       "      <td>80</td>\n",
       "      <td>6</td>\n",
       "      <td>3</td>\n",
       "      <td>0</td>\n",
       "      <td>0</td>\n",
       "      <td>0.000000</td>\n",
       "      <td>0.000000</td>\n",
       "      <td>0</td>\n",
       "      <td>0</td>\n",
       "      <td>0.000000</td>\n",
       "      <td>...</td>\n",
       "      <td>0</td>\n",
       "      <td>3</td>\n",
       "      <td>8192</td>\n",
       "      <td>29200</td>\n",
       "      <td>0</td>\n",
       "      <td>20</td>\n",
       "      <td>0</td>\n",
       "      <td>0</td>\n",
       "      <td>False</td>\n",
       "      <td>False</td>\n",
       "    </tr>\n",
       "    <tr>\n",
       "      <th>1048573</th>\n",
       "      <td>80</td>\n",
       "      <td>6</td>\n",
       "      <td>3</td>\n",
       "      <td>0</td>\n",
       "      <td>0</td>\n",
       "      <td>0.000000</td>\n",
       "      <td>0.000000</td>\n",
       "      <td>0</td>\n",
       "      <td>0</td>\n",
       "      <td>0.000000</td>\n",
       "      <td>...</td>\n",
       "      <td>0</td>\n",
       "      <td>3</td>\n",
       "      <td>8192</td>\n",
       "      <td>42780</td>\n",
       "      <td>0</td>\n",
       "      <td>20</td>\n",
       "      <td>0</td>\n",
       "      <td>0</td>\n",
       "      <td>False</td>\n",
       "      <td>False</td>\n",
       "    </tr>\n",
       "    <tr>\n",
       "      <th>1048574</th>\n",
       "      <td>443</td>\n",
       "      <td>6</td>\n",
       "      <td>6</td>\n",
       "      <td>245</td>\n",
       "      <td>0</td>\n",
       "      <td>54.500000</td>\n",
       "      <td>95.671835</td>\n",
       "      <td>145</td>\n",
       "      <td>0</td>\n",
       "      <td>36.250000</td>\n",
       "      <td>...</td>\n",
       "      <td>0</td>\n",
       "      <td>6</td>\n",
       "      <td>8192</td>\n",
       "      <td>110</td>\n",
       "      <td>3</td>\n",
       "      <td>20</td>\n",
       "      <td>291569</td>\n",
       "      <td>5515650</td>\n",
       "      <td>False</td>\n",
       "      <td>False</td>\n",
       "    </tr>\n",
       "  </tbody>\n",
       "</table>\n",
       "<p>1046298 rows × 54 columns</p>\n",
       "</div>"
      ],
      "text/plain": [
       "         Dst Port  Protocol  Tot Fwd Pkts  Fwd Pkt Len Max  Fwd Pkt Len Min  \\\n",
       "0               0         0             3                0                0   \n",
       "1               0         0             3                0                0   \n",
       "2               0         0             3                0                0   \n",
       "3              22         6            15              744                0   \n",
       "4              22         6            14              744                0   \n",
       "...           ...       ...           ...              ...              ...   \n",
       "1048570        80         6             5              587                0   \n",
       "1048571        80         6             2                0                0   \n",
       "1048572        80         6             3                0                0   \n",
       "1048573        80         6             3                0                0   \n",
       "1048574       443         6             6              245                0   \n",
       "\n",
       "         Fwd Pkt Len Mean  Fwd Pkt Len Std  Bwd Pkt Len Max  Bwd Pkt Len Min  \\\n",
       "0                0.000000         0.000000                0                0   \n",
       "1                0.000000         0.000000                0                0   \n",
       "2                0.000000         0.000000                0                0   \n",
       "3               82.600000       196.741237              976                0   \n",
       "4               81.642857       203.745545              976                0   \n",
       "...                   ...              ...              ...              ...   \n",
       "1048570        217.800000       299.745225             1334                0   \n",
       "1048571          0.000000         0.000000                0                0   \n",
       "1048572          0.000000         0.000000                0                0   \n",
       "1048573          0.000000         0.000000                0                0   \n",
       "1048574         54.500000        95.671835              145                0   \n",
       "\n",
       "         Bwd Pkt Len Mean  ...  Bwd Blk Rate Avg  Subflow Fwd Pkts  \\\n",
       "0                0.000000  ...                 0                 3   \n",
       "1                0.000000  ...                 0                 3   \n",
       "2                0.000000  ...                 0                 3   \n",
       "3              227.300000  ...                 0                15   \n",
       "4              200.818182  ...                 0                14   \n",
       "...                   ...  ...               ...               ...   \n",
       "1048570        384.600000  ...                 0                 5   \n",
       "1048571          0.000000  ...                 0                 2   \n",
       "1048572          0.000000  ...                 0                 3   \n",
       "1048573          0.000000  ...                 0                 3   \n",
       "1048574         36.250000  ...                 0                 6   \n",
       "\n",
       "         Init Fwd Win Byts  Init Bwd Win Byts  Fwd Act Data Pkts  \\\n",
       "0                       -1                 -1                  0   \n",
       "1                       -1                 -1                  0   \n",
       "2                       -1                 -1                  0   \n",
       "3                    65535                233                  6   \n",
       "4                     5808                233                  6   \n",
       "...                    ...                ...                ...   \n",
       "1048570               8192              31111                  2   \n",
       "1048571              64240                 -1                  0   \n",
       "1048572               8192              29200                  0   \n",
       "1048573               8192              42780                  0   \n",
       "1048574               8192                110                  3   \n",
       "\n",
       "         Fwd Seg Size Min  Active Max  Idle Min  Label_FTP-BruteForce  \\\n",
       "0                       0           0  56320761                 False   \n",
       "1                       0           0  56320652                 False   \n",
       "2                       0           0  56319098                 False   \n",
       "3                      32           0         0                 False   \n",
       "4                      32           0         0                 False   \n",
       "...                   ...         ...       ...                   ...   \n",
       "1048570                20           0         0                 False   \n",
       "1048571                20           0         0                 False   \n",
       "1048572                20           0         0                 False   \n",
       "1048573                20           0         0                 False   \n",
       "1048574                20      291569   5515650                 False   \n",
       "\n",
       "         Label_SSH-Bruteforce  \n",
       "0                       False  \n",
       "1                       False  \n",
       "2                       False  \n",
       "3                       False  \n",
       "4                       False  \n",
       "...                       ...  \n",
       "1048570                 False  \n",
       "1048571                 False  \n",
       "1048572                 False  \n",
       "1048573                 False  \n",
       "1048574                 False  \n",
       "\n",
       "[1046298 rows x 54 columns]"
      ]
     },
     "execution_count": 23,
     "metadata": {},
     "output_type": "execute_result"
    }
   ],
   "source": [
    "df"
   ]
  },
  {
   "cell_type": "code",
   "execution_count": null,
   "id": "7ba7cfdc-6f40-4fc9-8346-9224f9d02937",
   "metadata": {},
   "outputs": [],
   "source": []
  }
 ],
 "metadata": {
  "kernelspec": {
   "display_name": "Python 3 (ipykernel)",
   "language": "python",
   "name": "python3"
  },
  "language_info": {
   "codemirror_mode": {
    "name": "ipython",
    "version": 3
   },
   "file_extension": ".py",
   "mimetype": "text/x-python",
   "name": "python",
   "nbconvert_exporter": "python",
   "pygments_lexer": "ipython3",
   "version": "3.11.2"
  }
 },
 "nbformat": 4,
 "nbformat_minor": 5
}
